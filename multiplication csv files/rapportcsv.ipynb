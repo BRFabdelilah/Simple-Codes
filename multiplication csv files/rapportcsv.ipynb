{
 "cells": [
  {
   "cell_type": "code",
   "execution_count": 4,
   "metadata": {},
   "outputs": [
    {
     "name": "stdout",
     "output_type": "stream",
     "text": [
      "Les fichiers n'ont pas le même nombre de lignes.\n"
     ]
    }
   ],
   "source": [
    "import pandas as pd\n",
    "\n",
    "# Lire les fichiers CSV\n",
    "# Lire les deux fichiers CSV\n",
    "# Read the CSV files\n",
    "df1 = pd.read_csv('file1.csv', header=None)\n",
    "df2 = pd.read_csv('file2.csv', header=None)\n",
    "\n",
    "\n",
    "# Vérifier que les deux DataFrames ont la même longueur\n",
    "if len(df1) != len(df2):\n",
    "    print(\"Les fichiers n'ont pas le même nombre de lignes.\")\n",
    "else:\n",
    "    # Comparer les lignes et créer une liste des résultats\n",
    "    comparaison = [( 0 if df1.iloc[index].equals(df2.iloc[index]) else 1) for index in df1.index]\n",
    "\n",
    "    # Afficher les résultats\n",
    "    for result in comparaison:\n",
    "        print(result)"
   ]
  },
  {
   "cell_type": "code",
   "execution_count": 5,
   "metadata": {},
   "outputs": [
    {
     "name": "stdout",
     "output_type": "stream",
     "text": [
      "Les fichiers n'ont pas le même nombre de lignes.\n"
     ]
    }
   ],
   "source": [
    "import pandas as pd\n",
    "\n",
    "# Charger les fichiers CSV dans des DataFrames\n",
    "df1 = pd.read_csv('file1.csv', header=None)\n",
    "df2 = pd.read_csv('file2.csv', header=None)\n",
    "\n",
    "# Vérifier que les deux DataFrames ont la même longueur\n",
    "if len(df1) != len(df2):\n",
    "    print(\"Les fichiers n'ont pas le même nombre de lignes.\")\n",
    "else:\n",
    "    # Comparer les lignes et créer une liste des résultats\n",
    "    comparaison = [(0 if df1.iloc[index].equals(df2.iloc[index]) else 1) for index in df1.index]\n",
    "\n",
    "    # Enregistrer les résultats dans un fichier CSV\n",
    "    result_df = pd.DataFrame(comparaison)\n",
    "    result_df.to_csv('Result_rapport.csv', index=False)\n"
   ]
  },
  {
   "cell_type": "code",
   "execution_count": 6,
   "metadata": {},
   "outputs": [
    {
     "name": "stdout",
     "output_type": "stream",
     "text": [
      "Les fichiers n'ont pas le même nombre de lignes.\n"
     ]
    },
    {
     "ename": "UnboundLocalError",
     "evalue": "cannot access local variable 'comparaison' where it is not associated with a value",
     "output_type": "error",
     "traceback": [
      "\u001b[1;31m---------------------------------------------------------------------------\u001b[0m",
      "\u001b[1;31mUnboundLocalError\u001b[0m                         Traceback (most recent call last)",
      "Cell \u001b[1;32mIn[6], line 51\u001b[0m\n\u001b[0;32m     44\u001b[0m df3 \u001b[38;5;241m=\u001b[39m pd\u001b[38;5;241m.\u001b[39mread_csv(\u001b[38;5;124m'\u001b[39m\u001b[38;5;124mfile3.csv\u001b[39m\u001b[38;5;124m'\u001b[39m, header\u001b[38;5;241m=\u001b[39m\u001b[38;5;28;01mNone\u001b[39;00m)\n\u001b[0;32m     46\u001b[0m \u001b[38;5;66;03m# Exemple d'utilisation de la fonction\u001b[39;00m\n\u001b[0;32m     47\u001b[0m \u001b[38;5;66;03m# Charger le fichier CSV dans un DataFrame\u001b[39;00m\n\u001b[0;32m     48\u001b[0m \n\u001b[0;32m     49\u001b[0m \n\u001b[0;32m     50\u001b[0m \u001b[38;5;66;03m# Ajouter une première colonne\u001b[39;00m\n\u001b[1;32m---> 51\u001b[0m new_column_1 \u001b[38;5;241m=\u001b[39m \u001b[43mcomparaison\u001b[49m\u001b[43m(\u001b[49m\u001b[43mdf1\u001b[49m\u001b[43m,\u001b[49m\u001b[43mdf2\u001b[49m\u001b[43m)\u001b[49m\n\u001b[0;32m     52\u001b[0m df \u001b[38;5;241m=\u001b[39m pd\u001b[38;5;241m.\u001b[39mread_csv(\u001b[38;5;124m'\u001b[39m\u001b[38;5;124mResult_rapport.csv\u001b[39m\u001b[38;5;124m'\u001b[39m, header\u001b[38;5;241m=\u001b[39m\u001b[38;5;28;01mNone\u001b[39;00m)\n\u001b[0;32m     53\u001b[0m df \u001b[38;5;241m=\u001b[39m add_column_adjust_length(df, new_column_1, \u001b[38;5;124m'\u001b[39m\u001b[38;5;124mnew_col_1\u001b[39m\u001b[38;5;124m'\u001b[39m)\n",
      "Cell \u001b[1;32mIn[6], line 15\u001b[0m, in \u001b[0;36mcomparaison\u001b[1;34m(df1, df2)\u001b[0m\n\u001b[0;32m     13\u001b[0m     \u001b[38;5;28;01mfor\u001b[39;00m result \u001b[38;5;129;01min\u001b[39;00m comparaison:\n\u001b[0;32m     14\u001b[0m         \u001b[38;5;28mprint\u001b[39m(result)\n\u001b[1;32m---> 15\u001b[0m \u001b[38;5;28;01mreturn\u001b[39;00m \u001b[43mcomparaison\u001b[49m\n",
      "\u001b[1;31mUnboundLocalError\u001b[0m: cannot access local variable 'comparaison' where it is not associated with a value"
     ]
    }
   ],
   "source": [
    "import pandas as pd\n",
    "\n",
    "\n",
    "def comparaison(df1,df2):\n",
    "    # Vérifier que les deux DataFrames ont la même longueur\n",
    "    if len(df1) != len(df2):\n",
    "        print(\"Les fichiers n'ont pas le même nombre de lignes.\")\n",
    "    else:\n",
    "        # Comparer les lignes et créer une liste des résultats\n",
    "        comparaison = [( 0 if df1.iloc[index].equals(df2.iloc[index]) else 1) for index in df1.index]\n",
    "\n",
    "        # Afficher les résultats\n",
    "        for result in comparaison:\n",
    "            print(result)\n",
    "    return comparaison\n",
    "def add_column_adjust_length(df, new_column, temp_col_name):\n",
    "    \"\"\"\n",
    "    Ajoute une nouvelle colonne à un DataFrame en ajustant la longueur de la liste des valeurs de la colonne si nécessaire.\n",
    "\n",
    "    Args:\n",
    "    df (pd.DataFrame): Le DataFrame initial.\n",
    "    new_column (list): La liste des valeurs de la nouvelle colonne.\n",
    "    temp_col_name (str): Le nom temporaire de la nouvelle colonne.\n",
    "\n",
    "    Returns:\n",
    "    pd.DataFrame: Le DataFrame modifié avec la nouvelle colonne ajoutée.\n",
    "    \"\"\"\n",
    "    # Ajuster la longueur de la nouvelle colonne si nécessaire\n",
    "    if len(new_column) < len(df):\n",
    "        new_column = new_column + [0] * (len(df) - len(new_column))\n",
    "    else:\n",
    "        new_column = new_column[:len(df)]\n",
    "\n",
    "    # Ajouter la nouvelle colonne au DataFrame\n",
    "    df[temp_col_name] = new_column\n",
    "\n",
    "    # Renommer les colonnes pour enlever les noms\n",
    "    df.columns = ['et'] * len(df.columns)\n",
    "\n",
    "    return df\n",
    "\n",
    "df1 = pd.read_csv('file1.csv', header=None)\n",
    "df2 = pd.read_csv('file2.csv', header=None)\n",
    "df3 = pd.read_csv('file3.csv', header=None)\n",
    "\n",
    "# Exemple d'utilisation de la fonction\n",
    "# Charger le fichier CSV dans un DataFrame\n",
    "\n",
    "\n",
    "# Ajouter une première colonne\n",
    "new_column_1 = comparaison(df1,df2)\n",
    "df = pd.read_csv('Result_rapport.csv', header=None)\n",
    "df = add_column_adjust_length(df, new_column_1, 'new_col_1')\n",
    "\n",
    "\n",
    "# Afficher le DataFrame modifié\n",
    "print(df)\n",
    "\n",
    "# Sauvegarder le DataFrame dans le même fichier CSV\n",
    "df.to_csv('Result_rapport.csv', index=False)\n"
   ]
  },
  {
   "cell_type": "code",
   "execution_count": 7,
   "metadata": {},
   "outputs": [
    {
     "name": "stdout",
     "output_type": "stream",
     "text": [
      "    et et.1 et.2 et.3 et.4 et.5  et.6\n",
      "0   et   et   et   et   et   et     1\n",
      "1   et   et   et   et   et    1     1\n",
      "2   et   et   et   et    1    1     0\n",
      "3   et   et   et    1    1    0     0\n",
      "4   et   et    1    1    0    0     0\n",
      "5    0    1    1    0    0    0     0\n",
      "6    1    1    0    0    0    0     0\n",
      "7    1    0    0    0    0    0     0\n",
      "8    0    0    0    0    0    0     0\n",
      "9    0    0    0    0    0    0     0\n",
      "10   0    0    0    0    0    0     0\n",
      "11   0    0    0    0    0    0     0\n",
      "12   0    0    0    0    0    0     0\n",
      "13   0    0    0    0    0    0     0\n",
      "14   0    0    0    0    0    0     0\n",
      "15   0    0    0    0    0    0     0\n"
     ]
    }
   ],
   "source": [
    "import os\n",
    "import pandas as pd\n",
    "\n",
    "# Nom du fichier CSV\n",
    "file_path = 'Result_rapport.csv'\n",
    "\n",
    "# Vérifier si le fichier existe\n",
    "if not os.path.exists(file_path):\n",
    "    # Créer un fichier vide\n",
    "    open(file_path, 'a').close()\n",
    "    print(\"Fichier créé avec succès.\")\n",
    "\n",
    "# Charger le fichier CSV dans un DataFrame\n",
    "df = pd.read_csv(file_path)\n",
    "\n",
    "# Afficher le DataFrame\n",
    "print(df)\n"
   ]
  },
  {
   "cell_type": "code",
   "execution_count": 9,
   "metadata": {},
   "outputs": [
    {
     "name": "stdout",
     "output_type": "stream",
     "text": [
      "[0, 0, 0, 0, 0, 0, 0, 0, 0, 0, 0, 0, 0, 0, 0, 0, 0, 0, 0, 0, 0, 0, 0, 0, 0, 0, 0, 0, 0, 0]\n",
      "[0, 1, 1, 1, 0, 1, 0, 1, 1, 0, 1, 1, 0, 0, 1, 0, 1, 1, 1, 1, 1, 1, 1, 1, 1, 0, 1, 1, 1, 1]\n",
      "[0, 1, 1, 0, 1, 1, 0, 1, 1, 0, 0, 0, 1, 0, 1, 0, 0, 1, 0, 1, 0, 0, 0, 1, 1, 0, 0, 0, 1, 1]\n"
     ]
    }
   ],
   "source": [
    "import pandas as pd\n",
    "import os\n",
    "\n",
    "def comparaison(df1, df2):\n",
    "    # Vérifier que les deux DataFrames ont la même longueur\n",
    "    if len(df1) != len(df2):\n",
    "        print(\"Les fichiers n'ont pas le même nombre de lignes.\")\n",
    "    else:\n",
    "        # Comparer les lignes et créer une liste des résultats\n",
    "        comparaison = [(0 if df1.iloc[index].equals(df2.iloc[index]) else 1) for index in df1.index]\n",
    "        return comparaison\n",
    "\n",
    "# Chemin du dossier contenant les fichiers CSV\n",
    "FOLDERCSV = \"csvfolder\"\n",
    "\n",
    "# Liste pour stocker les résultats de comparaison pour chaque fichier\n",
    "all_results = []\n",
    "\n",
    "# Lire et comparer les fichiers CSV\n",
    "df1 = pd.read_csv('file1.csv', header=None)\n",
    "\n",
    "for file in os.listdir(FOLDERCSV):\n",
    "    if file.endswith(\".csv\"):\n",
    "        file_path = os.path.join(FOLDERCSV, file)\n",
    "        df2 = pd.read_csv(file_path, header=None)\n",
    "        results = comparaison(df1, df2)\n",
    "        print(results)\n",
    "        all_results.append(results)\n",
    "\n",
    "# Enregistrer les résultats dans un fichier CSV\n",
    "result_df = pd.DataFrame(all_results)\n",
    "result_df.to_csv('resultats_comparaison.csv', index=False)\n"
   ]
  },
  {
   "cell_type": "code",
   "execution_count": 12,
   "metadata": {},
   "outputs": [],
   "source": [
    "import pandas as pd\n",
    "import os\n",
    "\n",
    "def comparaison(df1, df2):\n",
    "    # Vérifier que les deux DataFrames ont la même longueur\n",
    "    if len(df1) != len(df2):\n",
    "        print(\"Les fichiers n'ont pas le même nombre de lignes.\")\n",
    "        return None\n",
    "    else:\n",
    "        # Comparer les lignes et créer une liste des résultats\n",
    "        comparaison = [(0 if df1.iloc[index].equals(df2.iloc[index]) else 1) for index in df1.index]\n",
    "        return comparaison\n",
    "\n",
    "# Chemin du dossier contenant les fichiers CSV\n",
    "FOLDERCSV = \"csvfolder\"\n",
    "\n",
    "# Lire et comparer les fichiers CSV\n",
    "df1 = pd.read_csv('file1.csv', header=None)\n",
    "\n",
    "for file in os.listdir(FOLDERCSV):\n",
    "    if file.endswith(\".csv\"):\n",
    "        file_path = os.path.join(FOLDERCSV, file)\n",
    "        df2 = pd.read_csv(file_path, header=None)\n",
    "        results = comparaison(df1, df2)\n",
    "        if results is not None:\n",
    "            # Créer un DataFrame avec le résultat de la comparaison\n",
    "            result_df = pd.DataFrame({\"Comparaison\": results})\n",
    "            # Enregistrer le résultat dans un fichier CSV distinct\n",
    "            result_filename = f\"result_comparaison {file}\"\n",
    "            result_df.to_csv(result_filename, index=False)\n"
   ]
  }
 ],
 "metadata": {
  "kernelspec": {
   "display_name": "Python 3",
   "language": "python",
   "name": "python3"
  },
  "language_info": {
   "codemirror_mode": {
    "name": "ipython",
    "version": 3
   },
   "file_extension": ".py",
   "mimetype": "text/x-python",
   "name": "python",
   "nbconvert_exporter": "python",
   "pygments_lexer": "ipython3",
   "version": "3.12.2"
  }
 },
 "nbformat": 4,
 "nbformat_minor": 2
}
